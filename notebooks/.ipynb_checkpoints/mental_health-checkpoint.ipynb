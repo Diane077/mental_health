{
 "cells": [
  {
   "cell_type": "markdown",
   "id": "2b3a46fa-e4be-45b4-8d66-4ffcd7f43a7f",
   "metadata": {},
   "source": [
    "# Project Title: Mental Health"
   ]
  },
  {
   "cell_type": "markdown",
   "id": "6d8fdd72-18b0-4674-8b3e-40882671ed57",
   "metadata": {},
   "source": [
    "## About Dataset\n",
    "This unique dataset was meticulously researched and prepared by AI Inventor Emirhan BULUT. It captures valuable information on social media usage and the dominant emotional state of users based on their activities. The dataset is ideal for exploring the relationship between social media usage patterns and emotional well-being. Features:"
   ]
  },
  {
   "cell_type": "markdown",
   "id": "0b7e995c-fd88-4388-9d08-3f1ad53fe995",
   "metadata": {},
   "source": [
    "Files:"
   ]
  },
  {
   "cell_type": "markdown",
   "id": "a4baa148-a02d-4265-a352-be28c6c83b0c",
   "metadata": {},
   "source": [
    "train.csv: Data for training models.<br>\n",
    "test.csv: Data for testing models.<br>\n",
    "val.csv: Data for validation purposes.<br>"
   ]
  },
  {
   "cell_type": "markdown",
   "id": "4bf34142-d3a4-4db8-b4cf-aff1a7936e76",
   "metadata": {},
   "source": [
    "**Dataset Overview:**"
   ]
  },
  {
   "cell_type": "markdown",
   "id": "2ddab21f-796a-4ad1-886e-c03fe689d9ea",
   "metadata": {},
   "source": [
    "🌐 Source: __Dataset is taken from__ <font color=blue>**Kaggle**</font>"
   ]
  },
  {
   "cell_type": "markdown",
   "id": "ba9d59f2-d611-4149-adb7-dd516847bd22",
   "metadata": {},
   "source": [
    "**Columns:**<br>\n",
    "* User_ID: Unique identifier for the user.<br>\n",
    "* Age: Age of the user.<br>\n",
    "* Gender: Gender of the user (Female, Male, Non-binary).<br>\n",
    "* Platform: Social media platform used (e.g., Instagram, Twitter, Facebook, LinkedIn, Snapchat, Whatsapp, Telegram).<br>\n",
    "* Daily_Usage_Time (minutes): Daily time spent on the platform in minutes.<br>\n",
    "* Posts_Per_Day: Number of posts made per day.<br>\n",
    "* Likes_Received_Per_Day: Number of likes received per day.<br>\n",
    "* Comments_Received_Per_Day: Number of comments received per day.<br>\n",
    "* Messages_Sent_Per_Day: Number of messages sent per day.<br>\n",
    "* Dominant_Emotion: User's dominant emotional state during the day (e.g., Happiness, Sadness, Anger, Anxiety, Boredom, Neutral).<br>\n",
    "\n",
    "**Attribution:**<br>\n",
    "\n",
    "You can use this dataset ethically and responsibly in accordance with the MIT license for educational and research purposes. If you use this dataset in your work, a citation or reference to this dataset would be appreciated."
   ]
  },
  {
   "cell_type": "markdown",
   "id": "a4482b88-0733-43a8-aa8f-d2afb896aa80",
   "metadata": {},
   "source": [
    "## Introduction:\n",
    "Social media is a central point of our life. It has changed the way we live, work, and interact with others. As a result, it has become an essential part of our daily lives. The dataset here aims to provide valuable insights into social media usage and the dominant emotional state of users.<br>\n",
    "\n",
    "The goal of this project is to analyze the relation between social media trends and emotional well-being, and train the nodels."
   ]
  },
  {
   "cell_type": "markdown",
   "id": "e5b80283-9bf5-441c-bb88-71820d7682ba",
   "metadata": {},
   "source": [
    "**About Author:**<br>\n",
    "**Author: Saadat Khalid Awan**\n",
    "\n",
    "|Contact Information||\n",
    "|---|---|\n",
    "|Email:|\tme.saadi96@gmail.com|\n",
    "|Website:|\thttps://thesaadat.blogspot.com|\n",
    "🌐 Let's Connect:\n",
    "\n",
    "|Platform|\tBadge|\tURL|\n",
    "|---|---|---|\n",
    "|Facebook|\tFacebook|\tSaadat.Khalid.Awan|\n",
    "|Instagram|\tInstagram|\tsaadii_awan66|\n",
    "|LinkedIn|\tLinkedIn|\tsaadatawan|\n",
    "|Medium|\tMedium|\t@me.saadat|\n",
    "|Pinterest|\tPinterest|\tits_saadatkhalid|\n",
    "|Quora|\tQuora|\tSaadat-Khalid-Awan|\n",
    "|TikTok|\tTikTok|\tsaadat.awan|\n",
    "|Twitter|\tTwitter|\tsaadat_96|\n",
    "|YouTube|\tYouTube|\tsaadatkhalidawan|\n",
    "|Github|\tGithub|\tSaadat-Khalid|"
   ]
  },
  {
   "cell_type": "markdown",
   "id": "118a5d4c-e079-4b94-a157-136f68b5474f",
   "metadata": {},
   "source": [
    "# Importing Libraries"
   ]
  },
  {
   "cell_type": "code",
   "execution_count": 2,
   "id": "06866555-d699-4c5f-99c8-24239fa6340f",
   "metadata": {},
   "outputs": [
    {
     "ename": "ModuleNotFoundError",
     "evalue": "No module named 'plotly'",
     "output_type": "error",
     "traceback": [
      "\u001b[0;31m---------------------------------------------------------------------------\u001b[0m",
      "\u001b[0;31mModuleNotFoundError\u001b[0m                       Traceback (most recent call last)",
      "Cell \u001b[0;32mIn[2], line 5\u001b[0m\n\u001b[1;32m      3\u001b[0m \u001b[38;5;28;01mimport\u001b[39;00m \u001b[38;5;21;01mmatplotlib\u001b[39;00m\u001b[38;5;21;01m.\u001b[39;00m\u001b[38;5;21;01mpyplot\u001b[39;00m \u001b[38;5;28;01mas\u001b[39;00m \u001b[38;5;21;01mplt\u001b[39;00m\n\u001b[1;32m      4\u001b[0m \u001b[38;5;28;01mimport\u001b[39;00m \u001b[38;5;21;01mseaborn\u001b[39;00m \u001b[38;5;28;01mas\u001b[39;00m \u001b[38;5;21;01msns\u001b[39;00m\n\u001b[0;32m----> 5\u001b[0m \u001b[38;5;28;01mimport\u001b[39;00m \u001b[38;5;21;01mplotly\u001b[39;00m\u001b[38;5;21;01m.\u001b[39;00m\u001b[38;5;21;01mexpress\u001b[39;00m \u001b[38;5;28;01mas\u001b[39;00m \u001b[38;5;21;01mpx\u001b[39;00m\n",
      "\u001b[0;31mModuleNotFoundError\u001b[0m: No module named 'plotly'"
     ]
    }
   ],
   "source": [
    "import pandas as pd\n",
    "import numpy as np\n",
    "import matplotlib.pyplot as plt\n",
    "import seaborn as snsb\n",
    "import plotly.express as px"
   ]
  },
  {
   "cell_type": "code",
   "execution_count": 3,
   "id": "e33a1492-f5fe-46d2-ac92-80700fb0c69b",
   "metadata": {},
   "outputs": [],
   "source": [
    "# Ignore Warnings\n",
    "import warnings\n",
    "warnings.filterwarnings(\"ignore\")"
   ]
  },
  {
   "cell_type": "markdown",
   "id": "d043e82b-0892-45bf-9350-e0eaf6e0ef0a",
   "metadata": {},
   "source": [
    "## Data loading"
   ]
  },
  {
   "cell_type": "markdown",
   "id": "a3213a47-eb26-4693-bb38-09e235dc5b49",
   "metadata": {},
   "source": [
    "* We've 3 files:<br>\n",
    "    - test.csv<br>\n",
    "    - train.csv<br>\n",
    "    - val.csv<br>"
   ]
  },
  {
   "cell_type": "code",
   "execution_count": null,
   "id": "ffadf566-cdad-471b-a52a-5c3e1ae5c3e8",
   "metadata": {},
   "outputs": [],
   "source": [
    "train_df = pd.read_csv(\"/kaggle/input/social-media-usage-and-emotional-well-being/train.csv\", on_bad_lines='skip')\n",
    "test_df = pd.read_csv(\"/kaggle/input/social-media-usage-and-emotional-well-being/test.csv\", on_bad_lines='skip')\n",
    "val_df = pd.read_csv(\"/kaggle/input/social-media-usage-and-emotional-well-being/val.csv\", on_bad_lines='skip')"
   ]
  },
  {
   "cell_type": "markdown",
   "id": "bb1705d8-f511-4dbf-bd2b-8a1c597200cd",
   "metadata": {},
   "source": [
    "* Before diving into the data, let's take a look at the data. Afterwards we'll explore the traning dataset."
   ]
  },
  {
   "cell_type": "code",
   "execution_count": null,
   "id": "c5b895eb-688f-448b-911f-0fd0b55d511c",
   "metadata": {},
   "outputs": [],
   "source": [
    "# viwing the traing data, test data and validation data\n",
    "print(\"Training Data:\")\n",
    "display(train_df.head())\n",
    "print(\"----------------------------------------------------------------------\")\n",
    "print(\"Testing Data:\")\n",
    "display(test_df.head())\n",
    "print(\"----------------------------------------------------------------------\")\n",
    "print(\"Validation Data:\")\n",
    "display(val_df.head())"
   ]
  },
  {
   "cell_type": "markdown",
   "id": "1f595838-98be-4e71-8e1f-f70d24e5ce50",
   "metadata": {},
   "source": [
    "Training Data:"
   ]
  },
  {
   "cell_type": "markdown",
   "id": "4c0a06bc-f378-4a29-8ebb-bece931072e0",
   "metadata": {},
   "source": [
    "----------------------------------------------------------------------\n",
    "Testing Data:"
   ]
  },
  {
   "cell_type": "markdown",
   "id": "eae21de1-4eae-4f58-8d93-a36a3774d056",
   "metadata": {},
   "source": [
    "----------------------------------------------------------------------\n",
    "Validation Data:"
   ]
  },
  {
   "cell_type": "code",
   "execution_count": null,
   "id": "56f11a4e-6d23-4d31-8be4-5620677c2fd2",
   "metadata": {},
   "outputs": [],
   "source": [
    "# training data info\n",
    "print(\"Traing Data Info:\")\n",
    "train_df.info()"
   ]
  },
  {
   "cell_type": "code",
   "execution_count": null,
   "id": "745ecdee-29bc-4792-af44-ee867c306115",
   "metadata": {},
   "outputs": [],
   "source": [
    "# testing data info\n",
    "print(\"Testing Data Info:\")\n",
    "test_df.info()"
   ]
  },
  {
   "cell_type": "code",
   "execution_count": null,
   "id": "b4966a0c-2e2d-4d29-8ba5-eb62e2665892",
   "metadata": {},
   "outputs": [],
   "source": [
    "# validation data info\n",
    "print(\"Validation Data Info:\")\n",
    "val_df.info()"
   ]
  },
  {
   "cell_type": "markdown",
   "id": "5c7aa136-f64f-42f8-af99-8b0fa3569621",
   "metadata": {},
   "source": [
    "* Shape of the training, testing, and validation data."
   ]
  },
  {
   "cell_type": "code",
   "execution_count": null,
   "id": "9953aeae-ef3a-46ff-9a96-8baf098b6d20",
   "metadata": {},
   "outputs": [],
   "source": [
    "print(f\"There are {train_df.shape[0]} rows and {train_df.shape[1]} columns in the training data.\")\n",
    "print(f\"There are {test_df.shape[0]} rows and {test_df.shape[1]} columns in the testing data.\")\n",
    "print(f\"There are {val_df.shape[0]} rows and {val_df.shape[1]} columns in the validation data.\")"
   ]
  },
  {
   "cell_type": "code",
   "execution_count": null,
   "id": "ceab0627-6445-46d9-8b95-b9f62df8e12f",
   "metadata": {},
   "outputs": [],
   "source": [
    "# checking for null values\n",
    "print(\"Training Data:\")\n",
    "display(train_df.isnull().sum())\n",
    "print(\"----------------------------------------------------------------------\")\n",
    "print(\"Testing Data:\")\n",
    "display(test_df.isnull().sum())\n",
    "print(\"----------------------------------------------------------------------\")\n",
    "print(\"Validation Data:\")\n",
    "display(val_df.isnull().sum())"
   ]
  },
  {
   "cell_type": "markdown",
   "id": "3244d34a-caf9-43e1-a4aa-6e6da740436c",
   "metadata": {},
   "source": [
    "* I can do 2 things to deal with null values:<br>\n",
    "    * Simple drop them as it is only 1 null value and might not affect our analysis.<br>\n",
    "    * Fill them with the mean, median, or mode depending on the value of the column."
   ]
  },
  {
   "cell_type": "markdown",
   "id": "957a0efc-b14a-4a32-956f-cdd9c37118bf",
   "metadata": {},
   "source": [
    "## Exploratory Data Analysis (EDA)"
   ]
  },
  {
   "cell_type": "markdown",
   "id": "f6a92908-cd1f-419e-a391-2fe2a2385b7f",
   "metadata": {},
   "source": [
    "* Let's start EDA with the training data."
   ]
  },
  {
   "cell_type": "code",
   "execution_count": null,
   "id": "b221f8f7-1a2e-4882-ad09-97c320513d0f",
   "metadata": {},
   "outputs": [],
   "source": [
    "train_df.head()"
   ]
  },
  {
   "cell_type": "markdown",
   "id": "29674ce1-713d-4837-ad35-87d999b9c97c",
   "metadata": {},
   "source": [
    "* Coloum in our data:"
   ]
  },
  {
   "cell_type": "code",
   "execution_count": null,
   "id": "0761071b-e1ec-43c9-838a-f08729cc39de",
   "metadata": {},
   "outputs": [],
   "source": [
    "# list of coloums in the training data\n",
    "train_df.columns "
   ]
  },
  {
   "cell_type": "markdown",
   "id": "b5b048bd-7f3b-4abc-98ee-c44b9c3d7b62",
   "metadata": {},
   "source": [
    "### Describe the training data"
   ]
  },
  {
   "cell_type": "code",
   "execution_count": null,
   "id": "23a651dc-336c-4e19-a63d-039a4111522c",
   "metadata": {},
   "outputs": [],
   "source": [
    "train_df.describe()"
   ]
  },
  {
   "cell_type": "markdown",
   "id": "160c49fe-0e40-4c09-8209-32a4be7436db",
   "metadata": {},
   "source": [
    "### Age Distribution"
   ]
  },
  {
   "cell_type": "code",
   "execution_count": null,
   "id": "4ee7c53a-4964-4c58-8703-78d852d4b1a5",
   "metadata": {},
   "outputs": [],
   "source": [
    "train_df['Age'].isnull().sum()"
   ]
  },
  {
   "cell_type": "code",
   "execution_count": null,
   "id": "6c0d36e1-5256-47a4-8407-1392b3478ecc",
   "metadata": {},
   "outputs": [],
   "source": [
    "train_df['Age'].unique()"
   ]
  },
  {
   "cell_type": "markdown",
   "id": "68cd2004-1ae1-415b-896a-7cae26519836",
   "metadata": {},
   "source": [
    "* In the age coloum we have 4 irrigular values.\n",
    "    * Male, Female, Non-binary, and other.\n",
    "* **_Let's drop/fill these values first_**"
   ]
  },
  {
   "cell_type": "code",
   "execution_count": null,
   "id": "bbb3e266-8d63-4e66-92e4-5c9893d89fa9",
   "metadata": {},
   "outputs": [],
   "source": [
    "# removing the Male, Female, Non-binary, and işte mevcut veri kümesini 1000 satıra tamamlıyorum:\n",
    "\n",
    "# Replace non-numeric values with NaN\n",
    "train_df['Age'] = pd.to_numeric(train_df['Age'], errors='coerce')\n",
    "\n",
    "# Handle NaN values\n",
    "train_df['Age'].fillna(train_df['Age'].median(), inplace=True)"
   ]
  },
  {
   "cell_type": "code",
   "execution_count": null,
   "id": "661e19fa-6214-46c5-90c7-95fa1e78698d",
   "metadata": {},
   "outputs": [],
   "source": [
    "train_df['Age'].unique()"
   ]
  },
  {
   "cell_type": "code",
   "execution_count": null,
   "id": "a9575106-bc90-4e2a-bf5e-3e0174d168dc",
   "metadata": {},
   "outputs": [],
   "source": [
    "plt = px.histogram(train_df, x='Age', title='Age Distribution')\n",
    "plt.show()"
   ]
  },
  {
   "cell_type": "markdown",
   "id": "72d16d66-f821-4f9a-9fdf-fea1f01b6745",
   "metadata": {},
   "source": [
    "### Gender Distribution"
   ]
  },
  {
   "cell_type": "code",
   "execution_count": null,
   "id": "74fc5a93-4f92-48d6-8cb2-eea1c8164927",
   "metadata": {},
   "outputs": [],
   "source": [
    "train_df['Gender'].unique()"
   ]
  },
  {
   "cell_type": "markdown",
   "id": "ed0cad71-f991-4813-bf20-01e53180615f",
   "metadata": {},
   "source": [
    "* We've the same issue here too. Mix of Gender with some number like in Age Coloum. Let's handle it."
   ]
  },
  {
   "cell_type": "code",
   "execution_count": null,
   "id": "30ab2cb7-dfb1-45ea-8cda-461e2051efab",
   "metadata": {},
   "outputs": [],
   "source": [
    "# Function to replace numeric values with NaN\n",
    "def clean_gender_column(gender_value):\n",
    "    try:\n",
    "        # Try converting the value to float, if it succeeds it's a numeric value\n",
    "        float(gender_value)\n",
    "        return np.nan\n",
    "    except ValueError:\n",
    "        # If conversion fails, it's a valid gender entry\n",
    "        return gender_value\n",
    "\n",
    "# Apply the function to the Gender column\n",
    "train_df['Gender'] = train_df['Gender'].apply(clean_gender_column)\n",
    "\n",
    "# Fill NaN values with a placeholder or drop them\n",
    "# Here we fill NaN values with 'Unknown'\n",
    "train_df['Gender'].fillna('Unknown', inplace=True)\n",
    "\n",
    "# Verify the unique values after cleaning\n",
    "print(train_df['Gender'].unique())"
   ]
  },
  {
   "cell_type": "markdown",
   "id": "40f29277-2ce6-44b2-8d09-dbaff2542a17",
   "metadata": {},
   "source": [
    "['Female' 'Male' 'Non-binary' 'Unknown']"
   ]
  },
  {
   "cell_type": "code",
   "execution_count": null,
   "id": "116aac67-53c0-41ae-95af-471e451b628a",
   "metadata": {},
   "outputs": [],
   "source": [
    "train_df['Gender'].unique()"
   ]
  },
  {
   "cell_type": "code",
   "execution_count": null,
   "id": "6a556f80-e974-4491-aff7-9e733ab710d5",
   "metadata": {},
   "outputs": [],
   "source": [
    "train_df['Gender'].value_counts()"
   ]
  },
  {
   "cell_type": "code",
   "execution_count": null,
   "id": "c46203df-fdfb-4434-b9bd-4017e61f3ba2",
   "metadata": {},
   "outputs": [],
   "source": [
    "plt = px.histogram(train_df, x='Gender', title='Gender Distribution')\n",
    "plt.show()"
   ]
  },
  {
   "cell_type": "markdown",
   "id": "b7fae21f-bf9b-4795-a704-3750ed2debb7",
   "metadata": {},
   "source": [
    "### Platform Distribution"
   ]
  },
  {
   "cell_type": "code",
   "execution_count": null,
   "id": "19e17ee1-a8d0-4b60-bc0f-703d47d6ada0",
   "metadata": {},
   "outputs": [],
   "source": [
    "train_df['Platform'].unique()"
   ]
  },
  {
   "cell_type": "code",
   "execution_count": null,
   "id": "cf33032e-46e5-480c-aeb3-b01f5258bdcb",
   "metadata": {},
   "outputs": [],
   "source": [
    "train_df['Platform'].value_counts()"
   ]
  },
  {
   "cell_type": "markdown",
   "id": "c3023150-4e46-4ba9-9da5-e1f9c8692e3a",
   "metadata": {},
   "source": [
    "* Let's Impute the nan with the mode"
   ]
  },
  {
   "cell_type": "code",
   "execution_count": null,
   "id": "c870ac13-5379-437d-ada9-6eac0052aed6",
   "metadata": {},
   "outputs": [],
   "source": [
    "# filling with mode\n",
    "train_df['Platform'].fillna(train_df['Platform'].mode()[0], inplace=True)"
   ]
  },
  {
   "cell_type": "code",
   "execution_count": null,
   "id": "f9382784-6f61-4592-ae97-359cf07d9756",
   "metadata": {},
   "outputs": [],
   "source": [
    "train_df['Platform'].unique()"
   ]
  },
  {
   "cell_type": "code",
   "execution_count": null,
   "id": "19da2d9f-3da3-4d27-b302-f11d83f9f5cc",
   "metadata": {},
   "outputs": [],
   "source": [
    "train_df['Platform'].value_counts()"
   ]
  },
  {
   "cell_type": "code",
   "execution_count": null,
   "id": "77f8e36d-c6cd-4272-8aae-f941eef24874",
   "metadata": {},
   "outputs": [],
   "source": [
    "plt = px.histogram(train_df, x='Platform', title='Platform Distribution')\n",
    "plt.show()"
   ]
  },
  {
   "cell_type": "markdown",
   "id": "e42bc681-dc5b-46a6-8283-11b52674af64",
   "metadata": {},
   "source": [
    "### Daily Usage Time (minutes) Distribution"
   ]
  },
  {
   "cell_type": "code",
   "execution_count": null,
   "id": "a1de3625-aed3-4ac4-8ddd-1ceeaa0baed9",
   "metadata": {},
   "outputs": [],
   "source": [
    "plt = px.histogram(train_df, x='Daily_Usage_Time (minutes)', title='Daily Usage Time Distribution')\n",
    "plt.show()"
   ]
  },
  {
   "cell_type": "markdown",
   "id": "835d8d10-8a1c-46fb-8144-74519d42853c",
   "metadata": {},
   "source": [
    "Post Per Day Distribution"
   ]
  },
  {
   "cell_type": "code",
   "execution_count": null,
   "id": "0d7d4d98-ba53-43b0-9b86-f796b400f4b7",
   "metadata": {},
   "outputs": [],
   "source": [
    "train_df['Posts_Per_Day'].unique()"
   ]
  },
  {
   "cell_type": "code",
   "execution_count": null,
   "id": "1af6b204-1f6f-4296-8a70-a5a4ff9b5978",
   "metadata": {},
   "outputs": [],
   "source": [
    "# fill with mode\n",
    "train_df['Posts_Per_Day'].fillna(train_df['Posts_Per_Day'].mode()[0], inplace=True)"
   ]
  },
  {
   "cell_type": "code",
   "execution_count": null,
   "id": "9c6a09f2-fc26-4d5c-a22d-3fa32a3c2684",
   "metadata": {},
   "outputs": [],
   "source": [
    "plt = px.histogram(train_df, x='Posts_Per_Day', title='Posts Per Day Distribution')\n",
    "plt.show()"
   ]
  },
  {
   "cell_type": "markdown",
   "id": "0adacccd-48b5-42a9-a216-c258693ae341",
   "metadata": {},
   "source": [
    "### Likes Per Day Distribution"
   ]
  },
  {
   "cell_type": "code",
   "execution_count": null,
   "id": "5fb47d05-1314-40e2-bf86-b36c53d3697c",
   "metadata": {},
   "outputs": [],
   "source": [
    "train_df['Likes_Received_Per_Day'].unique()"
   ]
  },
  {
   "cell_type": "code",
   "execution_count": null,
   "id": "9bafda94-0f55-4edb-8ada-47617852fd4a",
   "metadata": {},
   "outputs": [],
   "source": [
    "# filling wih mode\n",
    "train_df['Likes_Received_Per_Day'].fillna(train_df['Likes_Received_Per_Day'].mode()[0], inplace=True)"
   ]
  },
  {
   "cell_type": "code",
   "execution_count": null,
   "id": "4eda839a-302f-4135-ba1a-5a44e55c1f5c",
   "metadata": {},
   "outputs": [],
   "source": [
    "plt = px.histogram(train_df, x='Likes_Received_Per_Day', title='Posts Per Day Distribution')\n",
    "plt.show()"
   ]
  },
  {
   "cell_type": "markdown",
   "id": "e98b9a52-bdaa-4e72-b65f-385180164700",
   "metadata": {},
   "source": [
    "### Comments Per Day Distribution"
   ]
  },
  {
   "cell_type": "code",
   "execution_count": null,
   "id": "d216024d-6856-4e81-a919-4147e1dbbb2b",
   "metadata": {},
   "outputs": [],
   "source": [
    "train_df['Comments_Received_Per_Day'].unique()"
   ]
  },
  {
   "cell_type": "code",
   "execution_count": null,
   "id": "7290af50-b528-4d7e-a1a5-dd2f587f18f2",
   "metadata": {},
   "outputs": [],
   "source": [
    "# filling with mode\n",
    "train_df['Comments_Received_Per_Day'].fillna(train_df['Comments_Received_Per_Day'].mode()[0], inplace=True)"
   ]
  },
  {
   "cell_type": "code",
   "execution_count": null,
   "id": "d9d212cc-8021-4694-8a64-cfc0ea489304",
   "metadata": {},
   "outputs": [],
   "source": [
    "train_df['Comments_Received_Per_Day'].unique()"
   ]
  },
  {
   "cell_type": "code",
   "execution_count": null,
   "id": "8237f1dd-8495-436e-8212-5ba0e68de51b",
   "metadata": {},
   "outputs": [],
   "source": [
    "plt = px.histogram(train_df, x='Comments_Received_Per_Day', title='Posts Per Day Distribution')\n",
    "plt.show()"
   ]
  },
  {
   "cell_type": "markdown",
   "id": "6c748ae1-2b5a-4fd1-8308-b079285a26ba",
   "metadata": {},
   "source": [
    "### Messages Per Day Distribution"
   ]
  },
  {
   "cell_type": "code",
   "execution_count": null,
   "id": "209ee1cb-d3d4-4636-9148-f7e3012bbe81",
   "metadata": {},
   "outputs": [],
   "source": [
    "plt = px.histogram(train_df, x='Messages_Sent_Per_Day', title='Posts Per Day Distribution')\n",
    "plt.show()"
   ]
  },
  {
   "cell_type": "markdown",
   "id": "d955386a-1732-469c-89a0-99a9d71c2654",
   "metadata": {},
   "source": [
    "### Emotion Distribution"
   ]
  },
  {
   "cell_type": "code",
   "execution_count": null,
   "id": "82c7579f-3a38-47cd-b369-17d4ebf1145d",
   "metadata": {},
   "outputs": [],
   "source": [
    "train_df['Dominant_Emotion'].unique()"
   ]
  },
  {
   "cell_type": "code",
   "execution_count": null,
   "id": "5a2e0296-bf94-4e56-8691-0555bfeb43c7",
   "metadata": {},
   "outputs": [],
   "source": [
    "# fill with mode\n",
    "train_df['Dominant_Emotion'].fillna(train_df['Dominant_Emotion'].mode()[0], inplace=True)"
   ]
  },
  {
   "cell_type": "code",
   "execution_count": null,
   "id": "72549d38-0603-45de-ad37-ba7d5119272c",
   "metadata": {},
   "outputs": [],
   "source": [
    "plt = px.pie(train_df, names='Dominant_Emotion', title='Dominant Emotion Distribution')\n",
    "# adding the values to the pie section\n",
    "plt.update_traces(textposition='inside', textinfo='percent+label')\n",
    "plt.show()"
   ]
  },
  {
   "cell_type": "markdown",
   "id": "cee36d24-7b88-4d0f-bfc4-ca0041e210b3",
   "metadata": {},
   "source": [
    "## Relationship Between Variables"
   ]
  },
  {
   "cell_type": "markdown",
   "id": "5c4e196d-9eba-4de8-adc9-f9a49284c613",
   "metadata": {},
   "source": [
    "### Gender and Platform"
   ]
  },
  {
   "cell_type": "code",
   "execution_count": null,
   "id": "e9cba0ac-5301-4716-98e1-0c1b4c0474d4",
   "metadata": {},
   "outputs": [],
   "source": [
    "# Group the data by gender and platform\n",
    "grouped = train_df.groupby(['Gender', 'Platform'])\n",
    "\n",
    "# Count the number of rows in each group\n",
    "counts = grouped.size()\n",
    "\n",
    "# Print the counts\n",
    "print(counts)"
   ]
  },
  {
   "cell_type": "code",
   "execution_count": null,
   "id": "32c35cc0-4e06-493d-ac89-3c6911e41d26",
   "metadata": {},
   "outputs": [],
   "source": [
    "plt = px.histogram(train_df, x='Gender', color='Platform', title='Platform by Gender Usage')\n",
    "plt.show()"
   ]
  },
  {
   "cell_type": "markdown",
   "id": "e01270cf-9b25-438f-bb5e-419a0caeecb8",
   "metadata": {},
   "source": [
    "### Age and Gender"
   ]
  },
  {
   "cell_type": "code",
   "execution_count": null,
   "id": "6cc0dc91-25b5-4276-a80a-04f80aef2cdf",
   "metadata": {},
   "outputs": [],
   "source": [
    "# grouping age with gender\n",
    "grouped = train_df.groupby(['Age', 'Gender'])\n",
    "\n",
    "# count the number of rows in each group\n",
    "counts = grouped.size()\n",
    "\n",
    "# print the counts  \n",
    "print(counts)"
   ]
  },
  {
   "cell_type": "code",
   "execution_count": null,
   "id": "bf526f2f-1d9e-493a-8147-f7b6bfa72af8",
   "metadata": {},
   "outputs": [],
   "source": [
    "plt = px.histogram(train_df, x='Age', color='Gender', title='Age by Gender')\n",
    "plt.show()"
   ]
  },
  {
   "cell_type": "markdown",
   "id": "076f792c-0a04-4cda-8257-4dbd6fa113cb",
   "metadata": {},
   "source": [
    "### Gender and Platform VS Daily Usage Time (minutes)"
   ]
  },
  {
   "cell_type": "code",
   "execution_count": null,
   "id": "3391329b-3049-48d5-96ec-4bf32d62aa70",
   "metadata": {},
   "outputs": [],
   "source": [
    "plt = px.histogram(train_df, x='Posts_Per_Day', y='Platform' ,color='Gender', title='Posts Per Day by Gender')\n",
    "plt.show()"
   ]
  },
  {
   "cell_type": "markdown",
   "id": "1ab479cd-95fa-4d03-b604-e5468c5faab8",
   "metadata": {},
   "source": [
    "### Gender VS Emotions"
   ]
  },
  {
   "cell_type": "code",
   "execution_count": null,
   "id": "bec199e5-f1b2-4f84-81fd-dc693143e716",
   "metadata": {},
   "outputs": [],
   "source": [
    "# checking the Gender againest the Dominant_Emotion\n",
    "grouped = train_df.groupby(['Gender', 'Dominant_Emotion'])\n",
    "\n",
    "# count the number of rows in each group\n",
    "counts = grouped.size()\n",
    "\n",
    "# print the counts  \n",
    "print(counts)"
   ]
  },
  {
   "cell_type": "code",
   "execution_count": null,
   "id": "deacb73a-fced-4aca-b5c1-30762902e9ce",
   "metadata": {},
   "outputs": [],
   "source": [
    "# ploting\n",
    "plt = px.histogram(train_df, x='Gender', color='Dominant_Emotion', title='Dominant Emotion by Gender')\n",
    "plt.show()"
   ]
  },
  {
   "cell_type": "markdown",
   "id": "dec4df53-b63c-4fd0-97c7-f566a9e0bd20",
   "metadata": {},
   "source": [
    "### Platform VS Emotions"
   ]
  },
  {
   "cell_type": "code",
   "execution_count": null,
   "id": "0f002dd6-94bf-4a35-9775-491f21e358c1",
   "metadata": {},
   "outputs": [],
   "source": [
    "# checking the Platformagainest the Dominant_Emotion\n",
    "grouped = train_df.groupby(['Platform', 'Dominant_Emotion'])\n",
    "\n",
    "# count the number of rows in each group\n",
    "counts = grouped.size()\n",
    "\n",
    "# print the counts\n",
    "print(counts)"
   ]
  },
  {
   "cell_type": "code",
   "execution_count": null,
   "id": "c2783caa-3a9f-4ee8-96aa-b5bbd0b18130",
   "metadata": {},
   "outputs": [],
   "source": [
    "Plt = px.histogram(train_df, x='Platform', color='Dominant_Emotion', title='Dominant Emotion by Platform')\n",
    "Plt.show()"
   ]
  },
  {
   "cell_type": "code",
   "execution_count": null,
   "id": "f565bf7b-48b6-4678-989c-5b118e8d208e",
   "metadata": {},
   "outputs": [],
   "source": [
    "# Create a contingency table\n",
    "contingency_table = pd.crosstab(train_df['Platform'], train_df['Dominant_Emotion'])\n",
    "\n",
    "# Plot the heatmap\n",
    "fig = px.imshow(contingency_table, title='Platform vs Dominant Emotion Heatmap')\n",
    "fig.show()"
   ]
  },
  {
   "cell_type": "markdown",
   "id": "4e55b723-8335-4bde-8377-238e3adaf524",
   "metadata": {},
   "source": [
    "### Time Spent VS Emotions"
   ]
  },
  {
   "cell_type": "code",
   "execution_count": null,
   "id": "5ae95911-2616-4ed8-8425-e86a1394d293",
   "metadata": {},
   "outputs": [],
   "source": [
    "# Daily Usage time by Dominant_Emotion\n",
    "plt = px.histogram(train_df, x='Daily_Usage_Time (minutes)', color='Dominant_Emotion', title='Time Usage by Dominant Emotion')\n",
    "plt.show()"
   ]
  },
  {
   "cell_type": "markdown",
   "id": "5b89eda0-8d3a-4bb0-a3b5-a1b65582183d",
   "metadata": {},
   "source": [
    "### Likes Received VS Emotions"
   ]
  },
  {
   "cell_type": "markdown",
   "id": "7b674c8e-268f-498c-b0ca-aef8c5ce4861",
   "metadata": {},
   "source": [
    "* This is the last realation I'll be looking in this data."
   ]
  },
  {
   "cell_type": "code",
   "execution_count": null,
   "id": "2057617e-6f40-4f00-889f-3bcc6c8795ca",
   "metadata": {},
   "outputs": [],
   "source": [
    "plt = px.histogram(train_df, x='Likes_Received_Per_Day', color='Dominant_Emotion', title='Likes Received vs Dominant Emotion')\n",
    "plt.show()"
   ]
  },
  {
   "cell_type": "markdown",
   "id": "e04ed5d5-4af0-4246-9a18-8d966689a349",
   "metadata": {},
   "source": [
    "## Model Training"
   ]
  },
  {
   "cell_type": "code",
   "execution_count": null,
   "id": "44726b4c-e0a2-4000-beed-5ea5974f6bdc",
   "metadata": {},
   "outputs": [],
   "source": [
    "# Import the necessary libraries\n",
    "from sklearn.model_selection import train_test_split\n",
    "from sklearn.preprocessing import OneHotEncoder, StandardScaler\n",
    "from sklearn.compose import ColumnTransformer\n",
    "from sklearn.pipeline import Pipeline\n",
    "from sklearn.ensemble import RandomForestClassifier\n",
    "from xgboost import XGBClassifier\n",
    "from sklearn.metrics import classification_report"
   ]
  },
  {
   "cell_type": "code",
   "execution_count": null,
   "id": "e2431087-978b-455a-9d0a-f26961d9931b",
   "metadata": {},
   "outputs": [],
   "source": [
    "# Checking for missing values\n",
    "train_df.isnull().sum()"
   ]
  },
  {
   "cell_type": "code",
   "execution_count": null,
   "id": "e63507bf-41e2-4b75-a4b4-9857d497b04d",
   "metadata": {},
   "outputs": [],
   "source": [
    "# Let's drop the missing values\n",
    "train_df.dropna(inplace=True)"
   ]
  },
  {
   "cell_type": "code",
   "execution_count": null,
   "id": "96292793-9f84-472d-bf92-b7dec8244be8",
   "metadata": {},
   "outputs": [],
   "source": [
    "# Define features and target\n",
    "X = train_df.drop(columns=['Dominant_Emotion', 'User_ID']) # Features\n",
    "y = train_df['Dominant_Emotion'] # Target\n",
    "\n",
    "# Split into training and test sets\n",
    "X_train, X_test, y_train, y_test = train_test_split(X, y, test_size=0.2, random_state=42)"
   ]
  },
  {
   "cell_type": "code",
   "execution_count": null,
   "id": "95333736-df9d-43c6-adb6-876350a28391",
   "metadata": {},
   "outputs": [],
   "source": [
    "# Define preprocessing steps. Seeperating the numerical and categorical features\n",
    "numeric_features = ['Daily_Usage_Time (minutes)', 'Posts_Per_Day', 'Likes_Received_Per_Day', 'Comments_Received_Per_Day', 'Messages_Sent_Per_Day']\n",
    "categorical_features = ['Age', 'Gender', 'Platform']\n",
    "\n",
    "preprocessor = ColumnTransformer(\n",
    "    transformers=[\n",
    "        ('num', StandardScaler(), numeric_features),\n",
    "        ('cat', OneHotEncoder(), categorical_features)])"
   ]
  },
  {
   "cell_type": "markdown",
   "id": "7aed706f-b7cf-4611-86bd-97fc7b2e9877",
   "metadata": {},
   "source": [
    "### Random Forest Classifier"
   ]
  },
  {
   "cell_type": "markdown",
   "id": "9aab446a-5b42-4d5f-9d59-9c97cb3498ac",
   "metadata": {},
   "source": [
    "Random Forest is an ensemble learning method that constructs multiple decision trees during training and outputs the mode of the classes (classification). It improves predictive performance and reduces overfitting compared to a single decision tree by averaging the results of many trees."
   ]
  },
  {
   "cell_type": "code",
   "execution_count": null,
   "id": "6015e0e5-7d21-4b6f-9263-2504ae3f8d85",
   "metadata": {},
   "outputs": [],
   "source": [
    "# Random Forest Classifier\n",
    "rf_pipeline = Pipeline(steps=[('preprocessor', preprocessor),\n",
    "                              ('classifier', RandomForestClassifier(random_state=42))])\n",
    "\n",
    "rf_pipeline.fit(X_train, y_train)\n",
    "y_pred_rf = rf_pipeline.predict(X_test)\n",
    "\n",
    "print(\"Random Forest Classifier Report:\")\n",
    "print(classification_report(y_test, y_pred_rf))"
   ]
  },
  {
   "cell_type": "markdown",
   "id": "bb2966a5-68d9-4f29-abd8-c5191a06443f",
   "metadata": {},
   "source": [
    "### XGBoost Classifier"
   ]
  },
  {
   "cell_type": "markdown",
   "id": "246621b1-8216-4ab3-98aa-d3a13b5212fa",
   "metadata": {},
   "source": [
    "XGBoost (Extreme Gradient Boosting) is a scalable and efficient implementation of gradient boosting algorithms. It builds an ensemble of trees in a sequential manner, where each tree tries to correct the errors of the previous trees. XGBoost is known for its high performance and speed, making it popular for structured or tabular data tasks in machine learning competitions and real-world applications."
   ]
  },
  {
   "cell_type": "code",
   "execution_count": null,
   "id": "77303995-8749-413f-878c-16f6f3bd3f04",
   "metadata": {},
   "outputs": [],
   "source": [
    "from sklearn.preprocessing import LabelEncoder\n",
    "# Encode target labels as integers\n",
    "label_encoder = LabelEncoder()\n",
    "y_encoded = label_encoder.fit_transform(y)"
   ]
  },
  {
   "cell_type": "code",
   "execution_count": null,
   "id": "19bb958d-3b50-4125-9987-81256fc9d42a",
   "metadata": {},
   "outputs": [],
   "source": [
    "# Split into training and test sets\n",
    "X_train, X_test, y_train, y_test = train_test_split(X, y_encoded, test_size=0.2, random_state=42)\n",
    "\n",
    "# XGBoost Classifier\n",
    "xgb_pipeline = Pipeline(steps=[('preprocessor', preprocessor),\n",
    "                               ('classifier', XGBClassifier(random_state=42))])\n",
    "\n",
    "xgb_pipeline.fit(X_train, y_train)\n",
    "y_pred_xgb = xgb_pipeline.predict(X_test)"
   ]
  },
  {
   "cell_type": "code",
   "execution_count": null,
   "id": "19af8f44-c991-471a-b06d-78a4d7208e5e",
   "metadata": {},
   "outputs": [],
   "source": [
    "# Decode the predicted labels back to original string labels for the report\n",
    "y_test_decoded = label_encoder.inverse_transform(y_test)\n",
    "y_pred_xgb_decoded = label_encoder.inverse_transform(y_pred_xgb)\n",
    "\n",
    "print(\"XGBoost Classifier Report:\")\n",
    "print(classification_report(y_test_decoded, y_pred_xgb_decoded))"
   ]
  },
  {
   "cell_type": "markdown",
   "id": "5d2f50a8-8f8d-4b1f-b984-24f94d88a474",
   "metadata": {},
   "source": [
    "### Neural Network"
   ]
  },
  {
   "cell_type": "code",
   "execution_count": null,
   "id": "7c639d76-87e0-49b0-b574-0484b88eb8b8",
   "metadata": {},
   "outputs": [],
   "source": [
    "from sklearn.compose import ColumnTransformer\n",
    "from tensorflow.keras.models import Sequential\n",
    "from tensorflow.keras.layers import Dense, Dropout\n",
    "from tensorflow.keras.utils import to_categorical"
   ]
  },
  {
   "cell_type": "code",
   "execution_count": null,
   "id": "6859a0db-6f49-4b72-af5d-520bdb5a98c3",
   "metadata": {},
   "outputs": [],
   "source": [
    "# Define features and target\n",
    "X = train_df.drop(columns=['Dominant_Emotion', 'User_ID'])\n",
    "y = train_df['Dominant_Emotion']\n",
    "\n",
    "# Encode target labels as integers\n",
    "label_encoder = LabelEncoder()\n",
    "y_encoded = label_encoder.fit_transform(y)\n",
    "\n",
    "# One-hot encode the target labels for neural network\n",
    "y_onehot = to_categorical(y_encoded)\n",
    "\n",
    "# Split into training and test sets\n",
    "X_train, X_test, y_train, y_test = train_test_split(X, y_onehot, test_size=0.2, random_state=42)\n",
    "\n",
    "# Define preprocessing steps for features\n",
    "numeric_features = ['Daily_Usage_Time (minutes)', 'Posts_Per_Day', 'Likes_Received_Per_Day', 'Comments_Received_Per_Day', 'Messages_Sent_Per_Day']\n",
    "categorical_features = ['Age', 'Gender', 'Platform']\n",
    "\n",
    "preprocessor = ColumnTransformer(\n",
    "    transformers=[\n",
    "        ('num', StandardScaler(), numeric_features),\n",
    "        ('cat', OneHotEncoder(), categorical_features)])\n",
    "\n",
    "# Preprocess the features\n",
    "X_train = preprocessor.fit_transform(X_train)\n",
    "X_test = preprocessor.transform(X_test)"
   ]
  },
  {
   "cell_type": "markdown",
   "id": "02e8c009-8ff5-45b4-ab24-2da696a63d78",
   "metadata": {},
   "source": [
    "### Build the neural network"
   ]
  },
  {
   "cell_type": "code",
   "execution_count": null,
   "id": "988ae3f3-4078-4042-b7a4-43a37b8cc260",
   "metadata": {},
   "outputs": [],
   "source": [
    "# Build the neural network\n",
    "model = Sequential()\n",
    "model.add(Dense(128, input_dim=X_train.shape[1], activation='relu'))\n",
    "model.add(Dropout(0.5))\n",
    "model.add(Dense(64, activation='relu'))\n",
    "model.add(Dropout(0.5))\n",
    "model.add(Dense(y_onehot.shape[1], activation='softmax'))\n",
    "\n",
    "# Compile the model\n",
    "model.compile(optimizer='adam', loss='categorical_crossentropy', metrics=['accuracy'])\n",
    "\n",
    "# Train the model\n",
    "model.fit(X_train, y_train, epochs=50, batch_size=32, validation_split=0.1)"
   ]
  },
  {
   "cell_type": "code",
   "execution_count": null,
   "id": "ca5c0f89-d478-47f2-9d8c-914a02254174",
   "metadata": {},
   "outputs": [],
   "source": [
    "# Evaluate the model\n",
    "loss, accuracy = model.evaluate(X_test, y_test)\n",
    "print(f'Accuracy: {accuracy:.2f}')\n",
    "\n",
    "# Make predictions\n",
    "y_pred = model.predict(X_test)\n",
    "y_pred_classes = np.argmax(y_pred, axis=1)\n",
    "y_test_classes = np.argmax(y_test, axis=1)\n",
    "\n",
    "# Decode the predicted and true labels back to original string labels for the report\n",
    "y_pred_labels = label_encoder.inverse_transform(y_pred_classes)\n",
    "y_test_labels = label_encoder.inverse_transform(y_test_classes)"
   ]
  },
  {
   "cell_type": "code",
   "execution_count": null,
   "id": "b0d768ba-53dc-43e6-8a64-7d5f05302b72",
   "metadata": {},
   "outputs": [],
   "source": [
    "# Print classification report\n",
    "print(\"Neural Network Classifier Report:\")\n",
    "print(classification_report(y_test_labels, y_pred_labels))"
   ]
  },
  {
   "cell_type": "markdown",
   "id": "b66d7f98-02ec-4a16-aabd-17565182c3f0",
   "metadata": {},
   "source": [
    "## Insights:"
   ]
  },
  {
   "cell_type": "markdown",
   "id": "dd358b6a-2651-4c86-8575-cb0689bbcb98",
   "metadata": {},
   "source": [
    "1. Age Distribution: We can see that the majority of the users are in all ages between 21 and 35. The higest count is in the age group of 27.<br>\n",
    "2. Gender Distribution: We've 4 Values in the Gender Column. _Male, Female, Non-Binary, Unknown._<br>\n",
    "A. Male: 332,<br>\n",
    "B. Female: 344,<br>\n",
    "C. Non-Binary: 248,<br>\n",
    "D .Unknown: 77<br>\n",
    "3. Platform Distribution: We can see that the majority of the users use Instagram followed by Twitter and Facebook.<br>\n",
    "A.Instagram 251<br>\n",
    "B. Twitter 200<br>\n",
    "C. Facebook 190<br>\n",
    "D. LinkedIn 120<br>\n",
    "E. Whatsapp 80<br>\n",
    "F. Telegram 80<br>\n",
    "G. Snapchat 80<br>\n",
    "4. Daily_Usage_Time (minutes): The Daily Usage Time is from 40 to 200 minutes. Most count is in range of 60 to 90 minutes. While the Average time is 95 min.M<br>\n",
    "5. Post per Day: The Minimum number of post is 1 and Maximum is 8, while the average is 3.32 posts. (Most Count is 2)<br>\n",
    "6. Likes Received per Day: The Minimum number of like received is 5 and Highest is 110, while the average is 39.89.<br>\n",
    "7. Comments Received per Day: The Minimum number of comment received is 2 and maximum is 40 while the average if 15.61.<br>\n",
    "8. Messages Sent per Day: The Minimum number of messages sent is 8 and maximum is 50 while the average if 22.56.<br>\n",
    "9. Emotions: We've total 6 emotions:<br>\n",
    "A. Happiness: 20.1%<br>\n",
    "B. Anger: 13%<br>\n",
    "C. Neutral: 20%<br>\n",
    "D. Anxiety: 17<br>\n",
    "E. Boredom: 14%<br>\n",
    "F. Sadness: 16%<br>\n",
    "10. Gender VS Platform:<br>\n",
    "A. _Instagram_ is most usage app amoung female while facebook is the least one.<br>\n",
    "B. _Twitter_ is the most usage app amoung male followed by instagram. While Whatsapp is the least one.<br>\n",
    "C. _Facebook_ is the most usage app amoung non-binary.<br>\n",
    "11. Post Per Day By Gender<br>\n",
    "A. Instagram:<br>\n",
    "    a. Total Posts Per Day(Female): 885<br>\n",
    "    b. Total Posts Per Day(Female): 443<br>\n",
    "B. Twitter/X:<br>\n",
    "    a. Total Posts Per Day(Female): 226<br>\n",
    "    b. Total Posts Per Day(Female): 351<br>\n",
    "C. LinkedIn:<br>\n",
    "    a. Total Posts Per Day(Female): 60<br>\n",
    "    b. Total Posts Per Day(Female): 58<br>\n",
    "12. Dominent Emotion by Gender:<br>\n",
    "A. **Female**: The dominent emotion is _Happniess_ and the count is 102. While _Anger, Nuetral, Anxiety_ and _Sadness_ are the other emotions with the almost same count range 56 - 48. The count of _Boredom_ is 30 which is the least count amoung other.<br>\n",
    "B. **Male**: The dominent emotion is _Happniess_ and the count is 66. While _Anger, Nuetral, Anxiety, Boredom_ and _Sadness_ are the other emotions with the almost same count range 58 - 46.<br>\n",
    "C. **Non-Binary**: The dominent emotion is _Neutral_ and the count is 82. While _Anxiety, Sadness_ and _Boredom_ are the other emotions with the almost same count 46. Anger is the leaset count (10) among the other.<br>\n",
    "13. Dominant_Emotion is strongly correlated with Platform.<br>\n",
    "A. _Happiness_ is the dominant emotion in the _Instagram_ platform. While Anger is the least count.<br>\n",
    "B. _Anger_ is the dominant emotion in the _Twitter_ platform and _Whatsapp_. While _Happniess_ is the least count in both.<br>\n",
    "C. _Sadness_ is the also dominant emotion in the _Twitter_ platform and _Snapchat_.<br>\n",
    "D. _Neutral_ is the dominant emotion in the _Facebook_ platform and _Telegram_ platform.<br>\n",
    "E. _Boredom_ is the dominant emotion in the _LinkedIn_ platform and _Facebook_<br>\n",
    "F. _Anixity- is the also dominant emotion in the _Facebook_ and other platforms.<br>\n",
    "14. Daily_Usage_Time (minutes) and Dominant_Emotion are strongly correlated.<br>\n",
    "A. 200 minutes is related with Anxiety emotion.<br>\n",
    "B. From 140 to 190 minutes is related with Happiness emotion.<br>\n",
    "C. Anger is commonly seens in the range of 60 to 120 minutes.<br>\n",
    "D. Other Emotions are also in the range of 40 to 130 minutes<br>\n",
    "15. Likes Received Per Day is strongly correlated with Dominant_Emotion.<br>\n",
    "A. Upon looking at the plot, we can see that the Happiness emotion is triggered by the Likes_Received_Per_Day Ranging from 60 to 109 Likes.<br>\n",
    "B. While the Anxiety emotion is also triggered by the Likes_Received Ranging from 110 to 114, which could means more the likes received is causes the Anxiety.<br>"
   ]
  },
  {
   "cell_type": "markdown",
   "id": "e0b31bd8-65d2-45e9-9195-765a09e9dcf9",
   "metadata": {},
   "source": [
    "**About Model:**<br>\n",
    "Random Forest Classifier: **accuracy: 99%** The Random Forest Classifier is performing exceptionally well on this dataset, with nearly perfect precision, recall, and f1-scores for most classes and an overall accuracy of 99%. This indicates that the model is highly effective at predicting the dominant emotion based on the given features.\n",
    "\n",
    "XGBoost Classifier:**accuracy: 98%** The XGBoost Classifier is performing very well on this dataset, with high precision, recall, and f1-scores for most classes and an overall accuracy of 98%. This indicates that the model is highly effective at predicting the dominant emotion based on the given features, though it shows slightly less precision in predicting 'Anxiety' compared to other emotions.\n",
    "\n",
    "Neural Network: **accuracy: 94%** The neural network classifier is highly effective in identifying various emotions, achieving a high overall accuracy and strong class-wise performance. Focusing on improving recall for Boredom and Sadness and balancing precision and recall for Neutral could further enhance the classifier's robustness."
   ]
  },
  {
   "cell_type": "code",
   "execution_count": 8,
   "id": "570989d7-15a8-4949-94de-59227bad00ca",
   "metadata": {},
   "outputs": [
    {
     "name": "stdout",
     "output_type": "stream",
     "text": [
      "The history saving thread hit an unexpected error (OperationalError('attempt to write a readonly database')).History will not be written to the database.\n",
      "WARNING: You called a Git command named 'add.', which does not exist.\n",
      "Continuing in 0.1 seconds, assuming that you meant 'add'.\n",
      "Nothing specified, nothing added.\n",
      "\u001b[33mhint: Maybe you wanted to say 'git add .'?\u001b[m\n",
      "\u001b[33mhint: Turn this message off by running\u001b[m\n",
      "\u001b[33mhint: \"git config advice.addEmptyPathspec false\"\u001b[m\n"
     ]
    }
   ],
   "source": [
    "!git add."
   ]
  },
  {
   "cell_type": "code",
   "execution_count": 9,
   "id": "16e4b916-d803-4636-bb55-177871b75800",
   "metadata": {},
   "outputs": [
    {
     "name": "stdout",
     "output_type": "stream",
     "text": [
      "On branch master\n",
      "Your branch is up to date with 'origin/master'.\n",
      "\n",
      "Changes not staged for commit:\n",
      "  (use \"git add <file>...\" to update what will be committed)\n",
      "  (use \"git restore <file>...\" to discard changes in working directory)\n",
      "\t\u001b[31mmodified:   mental_health.ipynb\u001b[m\n",
      "\n",
      "Untracked files:\n",
      "  (use \"git add <file>...\" to include in what will be committed)\n",
      "\t\u001b[31m.ipynb_checkpoints/mental_health-checkpoint.ipynb\u001b[m\n",
      "\t\u001b[31mUntitled.ipynb\u001b[m\n",
      "\n",
      "no changes added to commit (use \"git add\" and/or \"git commit -a\")\n"
     ]
    }
   ],
   "source": [
    "!git commit -m \"done\""
   ]
  },
  {
   "cell_type": "code",
   "execution_count": 10,
   "id": "dd708bd7-e9ce-4a9b-b8f0-a9f43676d2c3",
   "metadata": {},
   "outputs": [
    {
     "name": "stdout",
     "output_type": "stream",
     "text": [
      "Everything up-to-date\n"
     ]
    }
   ],
   "source": [
    "!git push origin master"
   ]
  }
 ],
 "metadata": {
  "kernelspec": {
   "display_name": "Python 3 (ipykernel)",
   "language": "python",
   "name": "python3"
  },
  "language_info": {
   "codemirror_mode": {
    "name": "ipython",
    "version": 3
   },
   "file_extension": ".py",
   "mimetype": "text/x-python",
   "name": "python",
   "nbconvert_exporter": "python",
   "pygments_lexer": "ipython3",
   "version": "3.10.6"
  }
 },
 "nbformat": 4,
 "nbformat_minor": 5
}
